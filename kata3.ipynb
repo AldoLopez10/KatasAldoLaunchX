{
 "cells": [
  {
   "cell_type": "markdown",
   "metadata": {},
   "source": [
    "# Kata 3 Declaraciones if, else, elif."
   ]
  },
  {
   "cell_type": "markdown",
   "metadata": {},
   "source": [
    "## Ejercicio 1: Un asteroide se acerca, y viaja a una velocidad de 49 km/s"
   ]
  },
  {
   "cell_type": "code",
   "execution_count": 1,
   "metadata": {},
   "outputs": [
    {
     "name": "stdout",
     "output_type": "stream",
     "text": [
      "Advertencia! Un asteroide se acerca demasiado rapido a la Tierra\n"
     ]
    }
   ],
   "source": [
    "vel = 49\n",
    "\n",
    "if vel>25:\n",
    "    print(\"Advertencia! Un asteroide se acerca demasiado rapido a la Tierra\")\n",
    "else:\n",
    "    print(\"La Tierra no corre peligro\")\n"
   ]
  },
  {
   "cell_type": "markdown",
   "metadata": {},
   "source": [
    "## Ejercicio 2: Si un asteroide entra en la atmósfera de la Tierra a una velocidad mayor o igual a 20 km/s, a veces produce un rayo de luz que se puede ver desde la Tierra"
   ]
  },
  {
   "cell_type": "code",
   "execution_count": 2,
   "metadata": {},
   "outputs": [
    {
     "name": "stdout",
     "output_type": "stream",
     "text": [
      "No hay asteroides el dia de hoy\n"
     ]
    }
   ],
   "source": [
    "vel_aster = 19\n",
    "if vel_aster >20:\n",
    "    print(\"Atencion! Hay un asteroide en el cielo\")\n",
    "elif vel_aster == 20:\n",
    "    print(\"Atencion! Se puede observar un asteroide en el cielo\")\n",
    "else:\n",
    "    print(\"No hay asteroides el dia de hoy\")\n",
    "\n",
    "\n"
   ]
  },
  {
   "cell_type": "markdown",
   "metadata": {},
   "source": [
    "## Ejercicio 3: Uso de operadores and y or"
   ]
  },
  {
   "cell_type": "code",
   "execution_count": 3,
   "metadata": {},
   "outputs": [
    {
     "name": "stdout",
     "output_type": "stream",
     "text": [
      "El asteroide se puede observar en el cielo\n"
     ]
    }
   ],
   "source": [
    "dimAster = 20\n",
    "velAster = 20\n",
    "\n",
    "if dimAster > 25 and velAster > 25:\n",
    "   print(\"Advertencia! Un enorme asteroide está cerca de impactar la Tierra\")\n",
    "elif velAster >= 20:\n",
    "    print(\"El asteroide se puede observar en el cielo\")\n",
    "else:\n",
    "   print(\"No hay peligro de impacto de un asteroide \")\n",
    "\n"
   ]
  }
 ],
 "metadata": {
  "interpreter": {
   "hash": "a1db07f453613da6719f5af382cee040d631e0f894cdaa1ee5909e6b1c2a6b27"
  },
  "kernelspec": {
   "display_name": "Python 3.10.2 64-bit",
   "language": "python",
   "name": "python3"
  },
  "language_info": {
   "codemirror_mode": {
    "name": "ipython",
    "version": 3
   },
   "file_extension": ".py",
   "mimetype": "text/x-python",
   "name": "python",
   "nbconvert_exporter": "python",
   "pygments_lexer": "ipython3",
   "version": "3.10.2"
  },
  "orig_nbformat": 4
 },
 "nbformat": 4,
 "nbformat_minor": 2
}
