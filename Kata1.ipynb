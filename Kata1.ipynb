{
 "cells": [
  {
   "cell_type": "markdown",
   "metadata": {},
   "source": [
    "# Mi primer programa"
   ]
  },
  {
   "cell_type": "code",
   "execution_count": 1,
   "metadata": {},
   "outputs": [
    {
     "name": "stdout",
     "output_type": "stream",
     "text": [
      "Hola oficial!!\n",
      "El dia de hoy es: 2022-02-16\n"
     ]
    }
   ],
   "source": [
    "from datetime import date\n",
    "print(\"Hola oficial!!\")\n",
    "print(\"El dia de hoy es: \"+ str(date.today()))\n",
    "\n",
    "\n"
   ]
  },
  {
   "cell_type": "markdown",
   "metadata": {},
   "source": [
    "# Construir un convertidor de unidades"
   ]
  },
  {
   "cell_type": "code",
   "execution_count": 11,
   "metadata": {},
   "outputs": [
    {
     "name": "stdout",
     "output_type": "stream",
     "text": [
      "Este programa te ayudara a la conversion entre parsecs y años luz\n",
      "11 parsec son 35.877159999999996 años luz\n"
     ]
    }
   ],
   "source": [
    "print(\"Este programa te ayudara a la conversion entre parsecs y años luz\")\n",
    "parsec=11\n",
    "añoLuz= parsec*3.26156 \n",
    "print(str(parsec)+\" parsec son \" + str(añoLuz)+ \" años luz\") "
   ]
  }
 ],
 "metadata": {
  "interpreter": {
   "hash": "a1db07f453613da6719f5af382cee040d631e0f894cdaa1ee5909e6b1c2a6b27"
  },
  "kernelspec": {
   "display_name": "Python 3.10.2 64-bit",
   "language": "python",
   "name": "python3"
  },
  "language_info": {
   "codemirror_mode": {
    "name": "ipython",
    "version": 3
   },
   "file_extension": ".py",
   "mimetype": "text/x-python",
   "name": "python",
   "nbconvert_exporter": "python",
   "pygments_lexer": "ipython3",
   "version": "3.10.2"
  },
  "orig_nbformat": 4
 },
 "nbformat": 4,
 "nbformat_minor": 2
}
