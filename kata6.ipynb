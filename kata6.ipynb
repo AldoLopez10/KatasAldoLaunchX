{
 "cells": [
  {
   "cell_type": "markdown",
   "metadata": {},
   "source": [
    "# KATA 6\n",
    "\n",
    "## Ejercicio 6"
   ]
  },
  {
   "cell_type": "code",
   "execution_count": 9,
   "metadata": {},
   "outputs": [
    {
     "name": "stdout",
     "output_type": "stream",
     "text": [
      "['Mercurio', 'Venus', 'Tierra', 'Marte', 'Jupiter', 'Saturno', 'Urano', 'Neptuno']\n"
     ]
    }
   ],
   "source": [
    "planetas=[\"Mercurio\", \"Venus\", \"Tierra\", \"Marte\", \"Jupiter\", \"Saturno\", \"Urano\", \"Neptuno\"]\n",
    "print(planetas)\n"
   ]
  },
  {
   "cell_type": "code",
   "execution_count": 10,
   "metadata": {},
   "outputs": [
    {
     "name": "stdout",
     "output_type": "stream",
     "text": [
      "Pluton\n",
      "Hay: 9  planetas en tu lista\n"
     ]
    }
   ],
   "source": [
    "planetas.append(\"Pluton\")\n",
    "num_planetas= len(planetas)\n",
    "print(planetas[-1])\n",
    "print(\"Hay:\",num_planetas,\" planetas en tu lista\")"
   ]
  },
  {
   "cell_type": "markdown",
   "metadata": {},
   "source": [
    "# Ejercicio 2"
   ]
  },
  {
   "cell_type": "code",
   "execution_count": 11,
   "metadata": {},
   "outputs": [],
   "source": [
    "planets = ['Mercury', 'Venus', 'Earth', 'Mars', 'Jupiter', 'Saturn', 'Neptune']"
   ]
  },
  {
   "cell_type": "code",
   "execution_count": 17,
   "metadata": {},
   "outputs": [
    {
     "name": "stdout",
     "output_type": "stream",
     "text": [
      "Los planetas mas cercanos al Sol respecto a tu planeta elegido serán: ['Mercury', 'Venus', 'Earth']\n",
      "Los planetas mas lejanos al Sol respecto a tu planeta elegido serán: ['Jupiter', 'Saturn', 'Neptune']\n"
     ]
    }
   ],
   "source": [
    "nom_planeta = input(\"Escribe el nombre de un planeta (no olvides escribir la primer letra en mayuscula):\")\n",
    "indice_planeta = planets.index(nom_planeta)\n",
    "planetas_cerc_sol = planets[0:indice_planeta]\n",
    "# Muestra los planetas más cercanos al sol\n",
    "print(\"Los planetas mas cercanos al Sol respecto a tu planeta elegido serán:\", planetas_cerc_sol)\n",
    "# Muestra los planetas más lejanos al sol\n",
    "planetas_lejos_sol = planets[indice_planeta +1 : ]\n",
    "print(\"Los planetas mas lejanos al Sol respecto a tu planeta elegido serán:\", planetas_lejos_sol)\n"
   ]
  }
 ],
 "metadata": {
  "interpreter": {
   "hash": "a1db07f453613da6719f5af382cee040d631e0f894cdaa1ee5909e6b1c2a6b27"
  },
  "kernelspec": {
   "display_name": "Python 3.10.2 64-bit",
   "language": "python",
   "name": "python3"
  },
  "language_info": {
   "codemirror_mode": {
    "name": "ipython",
    "version": 3
   },
   "file_extension": ".py",
   "mimetype": "text/x-python",
   "name": "python",
   "nbconvert_exporter": "python",
   "pygments_lexer": "ipython3",
   "version": "3.10.2"
  },
  "orig_nbformat": 4
 },
 "nbformat": 4,
 "nbformat_minor": 2
}
