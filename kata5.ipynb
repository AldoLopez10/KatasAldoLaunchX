{
 "cells": [
  {
   "cell_type": "markdown",
   "metadata": {},
   "source": [
    "# Ejercicio 1"
   ]
  },
  {
   "cell_type": "code",
   "execution_count": 5,
   "metadata": {},
   "outputs": [
    {
     "name": "stdout",
     "output_type": "stream",
     "text": [
      "La distancia en km entre los planetas es de: 628949330\n",
      "La distancia en millas será de: 390577533.93\n"
     ]
    }
   ],
   "source": [
    "dist_tierra = 149597870\n",
    "dist_jupiter = 778547200\n",
    "\n",
    "# Calcular la distancia entre planetas\n",
    "\n",
    "dist_planetas = dist_jupiter - dist_tierra\n",
    "print(\"La distancia en km entre los planetas es de:\" , dist_planetas)\n",
    "print(\"La distancia en millas será de:\", dist_planetas*0.621)"
   ]
  },
  {
   "cell_type": "markdown",
   "metadata": {},
   "source": [
    "# Ejercicio 2"
   ]
  },
  {
   "cell_type": "code",
   "execution_count": 9,
   "metadata": {},
   "outputs": [
    {
     "name": "stdout",
     "output_type": "stream",
     "text": [
      "La distancia total en km es: 50300000\n",
      "La distancia en millas es de: 31236300.0\n"
     ]
    }
   ],
   "source": [
    "dist_primerPlaneta = input(\"Escribe la distancia del primer planeta:\")\n",
    "dist_segPlaneta = input(\"Escribe la distancia del segundo planeta:\")\n",
    "\n",
    "dist_int = int(dist_primerPlaneta)\n",
    "dist_int2 = int(dist_segPlaneta)\n",
    "#print(dist_int)\n",
    "dist_total= abs(dist_int - dist_int2)\n",
    "print(\"La distancia total en km es:\", dist_total)\n",
    "print(\"La distancia en millas es de:\", dist_total*0.621)"
   ]
  }
 ],
 "metadata": {
  "interpreter": {
   "hash": "a1db07f453613da6719f5af382cee040d631e0f894cdaa1ee5909e6b1c2a6b27"
  },
  "kernelspec": {
   "display_name": "Python 3.10.2 64-bit",
   "language": "python",
   "name": "python3"
  },
  "language_info": {
   "codemirror_mode": {
    "name": "ipython",
    "version": 3
   },
   "file_extension": ".py",
   "mimetype": "text/x-python",
   "name": "python",
   "nbconvert_exporter": "python",
   "pygments_lexer": "ipython3",
   "version": "3.10.2"
  },
  "orig_nbformat": 4
 },
 "nbformat": 4,
 "nbformat_minor": 2
}
